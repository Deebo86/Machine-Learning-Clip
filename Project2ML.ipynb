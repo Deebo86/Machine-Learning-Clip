{
  "cells": [
    {
      "cell_type": "code",
      "execution_count": 1,
      "metadata": {
        "id": "2L_TERSdCK7I"
      },
      "outputs": [],
      "source": [
        "#Imports\n",
        "import numpy as np\n",
        "import pandas as pd\n",
        "from sklearn.model_selection import train_test_split\n",
        "import torch\n",
        "from PIL import Image\n",
        "import clip\n",
        "import os\n"
      ]
    },
    {
      "cell_type": "code",
      "execution_count": 2,
      "metadata": {},
      "outputs": [
        {
          "data": {
            "text/plain": [
              "True"
            ]
          },
          "execution_count": 2,
          "metadata": {},
          "output_type": "execute_result"
        }
      ],
      "source": [
        "torch.cuda.is_available()"
      ]
    },
    {
      "cell_type": "code",
      "execution_count": 22,
      "metadata": {
        "colab": {
          "base_uri": "https://localhost:8080/",
          "height": 424
        },
        "id": "PzPdS27o7oOs",
        "outputId": "337a41ae-a586-4378-f00c-7d05d1e8acb1"
      },
      "outputs": [
        {
          "data": {
            "text/html": [
              "<div>\n",
              "<style scoped>\n",
              "    .dataframe tbody tr th:only-of-type {\n",
              "        vertical-align: middle;\n",
              "    }\n",
              "\n",
              "    .dataframe tbody tr th {\n",
              "        vertical-align: top;\n",
              "    }\n",
              "\n",
              "    .dataframe thead th {\n",
              "        text-align: right;\n",
              "    }\n",
              "</style>\n",
              "<table border=\"1\" class=\"dataframe\">\n",
              "  <thead>\n",
              "    <tr style=\"text-align: right;\">\n",
              "      <th></th>\n",
              "      <th>Unnamed: 0</th>\n",
              "      <th>image</th>\n",
              "      <th>labels</th>\n",
              "    </tr>\n",
              "  </thead>\n",
              "  <tbody>\n",
              "    <tr>\n",
              "      <th>0</th>\n",
              "      <td>0</td>\n",
              "      <td>dog.624.jpg</td>\n",
              "      <td>1</td>\n",
              "    </tr>\n",
              "    <tr>\n",
              "      <th>1</th>\n",
              "      <td>1</td>\n",
              "      <td>cat.170.jpg</td>\n",
              "      <td>0</td>\n",
              "    </tr>\n",
              "    <tr>\n",
              "      <th>2</th>\n",
              "      <td>2</td>\n",
              "      <td>dog.419.jpg</td>\n",
              "      <td>1</td>\n",
              "    </tr>\n",
              "    <tr>\n",
              "      <th>3</th>\n",
              "      <td>3</td>\n",
              "      <td>dog.19.jpg</td>\n",
              "      <td>1</td>\n",
              "    </tr>\n",
              "    <tr>\n",
              "      <th>4</th>\n",
              "      <td>4</td>\n",
              "      <td>cat.227.jpg</td>\n",
              "      <td>0</td>\n",
              "    </tr>\n",
              "    <tr>\n",
              "      <th>...</th>\n",
              "      <td>...</td>\n",
              "      <td>...</td>\n",
              "      <td>...</td>\n",
              "    </tr>\n",
              "    <tr>\n",
              "      <th>1995</th>\n",
              "      <td>1995</td>\n",
              "      <td>dog.481.jpg</td>\n",
              "      <td>1</td>\n",
              "    </tr>\n",
              "    <tr>\n",
              "      <th>1996</th>\n",
              "      <td>1996</td>\n",
              "      <td>dog.159.jpg</td>\n",
              "      <td>1</td>\n",
              "    </tr>\n",
              "    <tr>\n",
              "      <th>1997</th>\n",
              "      <td>1997</td>\n",
              "      <td>cat.576.jpg</td>\n",
              "      <td>0</td>\n",
              "    </tr>\n",
              "    <tr>\n",
              "      <th>1998</th>\n",
              "      <td>1998</td>\n",
              "      <td>dog.190.jpg</td>\n",
              "      <td>1</td>\n",
              "    </tr>\n",
              "    <tr>\n",
              "      <th>1999</th>\n",
              "      <td>1999</td>\n",
              "      <td>dog.909.jpg</td>\n",
              "      <td>1</td>\n",
              "    </tr>\n",
              "  </tbody>\n",
              "</table>\n",
              "<p>2000 rows × 3 columns</p>\n",
              "</div>"
            ],
            "text/plain": [
              "      Unnamed: 0        image  labels\n",
              "0              0  dog.624.jpg       1\n",
              "1              1  cat.170.jpg       0\n",
              "2              2  dog.419.jpg       1\n",
              "3              3   dog.19.jpg       1\n",
              "4              4  cat.227.jpg       0\n",
              "...          ...          ...     ...\n",
              "1995        1995  dog.481.jpg       1\n",
              "1996        1996  dog.159.jpg       1\n",
              "1997        1997  cat.576.jpg       0\n",
              "1998        1998  dog.190.jpg       1\n",
              "1999        1999  dog.909.jpg       1\n",
              "\n",
              "[2000 rows x 3 columns]"
            ]
          },
          "execution_count": 22,
          "metadata": {},
          "output_type": "execute_result"
        }
      ],
      "source": [
        "data = pd.read_csv('cat_dog1.csv')\n",
        "data"
      ]
    },
    {
      "cell_type": "code",
      "execution_count": 33,
      "metadata": {
        "id": "ePu26VYm71p1"
      },
      "outputs": [],
      "source": [
        "#a-Spliting the dataset into training and testing sets with 20% for test dataset\n",
        "train_data, test_data = train_test_split(data, test_size=0.2, random_state=42)"
      ]
    },
    {
      "cell_type": "code",
      "execution_count": 34,
      "metadata": {},
      "outputs": [],
      "source": [
        "train_data.sort_values(train_data.columns[2], axis = 0, inplace=True) #sort by label\n",
        "train_cats = train_data[train_data['labels'] == 0]\n",
        "\n"
      ]
    },
    {
      "cell_type": "code",
      "execution_count": 5,
      "metadata": {
        "colab": {
          "base_uri": "https://localhost:8080/",
          "height": 211
        },
        "id": "Vgj6n4DuVZ1i",
        "outputId": "9b44a9aa-56ed-42d0-b149-1d119e75e369"
      },
      "outputs": [
        {
          "name": "stderr",
          "output_type": "stream",
          "text": [
            "d:\\Mariam\\Python\\Python312\\Lib\\site-packages\\clip\\clip.py:57: UserWarning: C:\\Users\\Family/.cache/clip\\ViT-B-32.pt exists, but the SHA256 checksum does not match; re-downloading the file\n",
            "  warnings.warn(f\"{download_target} exists, but the SHA256 checksum does not match; re-downloading the file\")\n",
            "100%|███████████████████████████████████████| 338M/338M [02:33<00:00, 2.31MiB/s]\n"
          ]
        }
      ],
      "source": [
        "# Load the CLIP model\n",
        "device = \"cuda\" if torch.cuda.is_available() else \"cpu\"\n",
        "\n",
        "model, transform = clip.load(\"ViT-B/32\", device) "
      ]
    },
    {
      "cell_type": "code",
      "execution_count": 35,
      "metadata": {
        "id": "mhe841EWchL7"
      },
      "outputs": [],
      "source": [
        "preproc_img_train_cat = []\n",
        "preproc_img_train_dog = []\n",
        "preproc_img_test = []"
      ]
    },
    {
      "cell_type": "code",
      "execution_count": 36,
      "metadata": {
        "colab": {
          "base_uri": "https://localhost:8080/",
          "height": 245
        },
        "id": "dS7GtDfhdKMc",
        "outputId": "65693909-bc93-4689-b863-a86550ff03ee"
      },
      "outputs": [],
      "source": [
        "for file in train_cats['image']:\n",
        "  preproc_img_train_cat.append(transform(Image.open('cat_dog1/' + file )).unsqueeze(0).to(device))\n",
        "for file in train_dogs['image']:\n",
        "  preproc_img_train_dog.append(transform(Image.open('cat_dog1/' + file )).unsqueeze(0).to(device))\n",
        "\n",
        "for file in test_data['image']:\n",
        "  preproc_img_test.append(transform(Image.open('cat_dog1/' + file)).unsqueeze(0).to(device))"
      ]
    },
    {
      "cell_type": "code",
      "execution_count": 37,
      "metadata": {
        "colab": {
          "base_uri": "https://localhost:8080/",
          "height": 390
        },
        "id": "Re1I9nu0eveV",
        "outputId": "9db5712d-0344-4634-f089-363e30f94791"
      },
      "outputs": [],
      "source": [
        "#encode the inputs\n",
        "image_embeddings_train_dog = []\n",
        "image_embeddings_train_cat = []\n",
        "image_embeddings_test = []\n",
        "torch.cuda.empty_cache()\n",
        "with torch.no_grad():\n",
        "  for image in preproc_img_train_cat:\n",
        "    image_embeddings_train_cat.append((model.encode_image(image)).cpu().numpy())\n",
        "  \n",
        "  for image in preproc_img_train_dog:\n",
        "    image_embeddings_train_dog.append((model.encode_image(image)).cpu().numpy())\n",
        "\n",
        "  for image in preproc_img_test:\n",
        "    image_embeddings_test.append((model.encode_image(image)).cpu().numpy())\n"
      ]
    },
    {
      "cell_type": "code",
      "execution_count": 48,
      "metadata": {
        "id": "dqOKtluBWgVy"
      },
      "outputs": [
        {
          "data": {
            "text/plain": [
              "array([[ 0.2212  ,  0.0993  , -0.099   , ...,  0.9565  ,  0.007534,\n",
              "         0.122   ],\n",
              "       [-0.3103  , -0.1823  ,  0.3867  , ...,  0.7407  ,  0.1398  ,\n",
              "         0.3574  ],\n",
              "       [-0.07806 , -0.2463  ,  0.06335 , ...,  1.275   ,  0.2473  ,\n",
              "        -0.02036 ],\n",
              "       ...,\n",
              "       [ 0.2091  ,  0.2673  , -0.241   , ...,  0.4856  , -0.001846,\n",
              "         0.248   ],\n",
              "       [-0.3276  ,  0.1192  ,  0.31    , ...,  1.1875  , -0.01619 ,\n",
              "         0.277   ],\n",
              "       [ 0.03693 , -0.09326 ,  0.0961  , ...,  0.6284  , -0.2384  ,\n",
              "         0.1028  ]], dtype=float16)"
            ]
          },
          "execution_count": 48,
          "metadata": {},
          "output_type": "execute_result"
        }
      ],
      "source": [
        "image_embeddings_train_cat = np.vstack(image_embeddings_train_cat)\n",
        "image_embeddings_train_dog = np.vstack(image_embeddings_train_dog)\n",
        "image_embeddings_test = np.vstack(image_embeddings_test)\n"
      ]
    },
    {
      "cell_type": "code",
      "execution_count": 53,
      "metadata": {
        "id": "IoIw8t0KUclK"
      },
      "outputs": [],
      "source": [
        "#Fisher's Algorithm\n",
        "c = 0.1\n",
        "means = []\n",
        "means.append(image_embeddings_train_cat.mean(axis = 0))\n",
        "means.append(image_embeddings_train_dog.mean(axis = 0))\n",
        "S =  np.cov(image_embeddings_train_cat, rowvar=False) + np.cov(image_embeddings_train_dog, rowvar=False)\n",
        "S_inv = np.linalg.inv(S)\n",
        "mean_dif = means[1] - means[0]\n",
        "w = c*np.dot(S_inv, mean_dif)"
      ]
    },
    {
      "cell_type": "code",
      "execution_count": 55,
      "metadata": {
        "id": "DanOCOOSNzXY"
      },
      "outputs": [
        {
          "name": "stdout",
          "output_type": "stream",
          "text": [
            "[-4.66712454e+00  5.25411342e-01 -2.78909745e+00  6.90284201e+01\n",
            " -1.50379462e+01 -4.74721040e+00 -7.05946066e+00 -6.48999716e+00\n",
            "  4.07027964e+00 -7.08755957e+00 -1.64724517e+01  7.06060236e+01\n",
            " -2.35394283e+00 -8.38942538e+00 -7.14627341e+00 -1.15357510e+01\n",
            "  6.31637300e+01 -2.72438807e+00  7.12043848e+01 -4.62374878e+00\n",
            "  6.81812881e+00  6.95621988e+01  6.88343617e+01  6.31478792e+01\n",
            "  6.29491432e+01 -4.34518146e+00 -8.70594084e-02  7.53102546e+01\n",
            " -9.76096886e+00  5.73699155e+01  6.64739703e+01  6.86950400e+01\n",
            "  8.22530153e+01 -2.37774168e+00  7.14381174e+01 -7.13097463e-01\n",
            " -1.26009656e+00  7.88376590e+01  7.67098556e+01 -1.24749695e+01\n",
            "  7.48026886e+01  8.31474917e+00  8.65483204e+01  6.62445429e+01\n",
            "  3.66240177e-01  6.87379335e+01 -8.93111721e+00  5.44339385e+01\n",
            "  6.53176939e+01 -8.08842858e+00  6.82138472e+01  8.32365707e+01\n",
            " -6.28279435e+00 -5.74284231e+00 -1.71683887e+01  1.83831234e+00\n",
            " -5.07656861e+00  5.17775415e+01 -9.25022978e+00  7.58007233e+01\n",
            " -8.68641757e+00  8.25965539e+01  7.02874416e+01  7.09255181e+01\n",
            "  6.58975971e+01 -6.03258420e+00  8.05923426e+01  8.21389272e+01\n",
            "  1.04254036e+01 -9.01179371e+00  6.97311202e+01 -8.79224074e+00\n",
            " -1.40540336e+00  7.06578132e+01  5.78388512e+01 -4.91063667e+00\n",
            " -4.93183988e+00  4.96090209e+01 -1.17856028e+01  7.46215084e+01\n",
            " -5.50617140e+00  8.38464197e+01  8.19698722e+01 -3.10346728e-01\n",
            "  7.90557781e+01 -1.09843453e+01  7.36589941e+01  5.55609876e+00\n",
            " -1.25608885e+01  6.23780368e+01  7.13704595e+01  5.65813659e+01\n",
            " -2.96535177e-01 -4.18587466e-01 -1.64739593e+00 -1.05917250e+01\n",
            " -3.19904339e+00  7.17580273e+01  8.11560473e+01  6.98328912e+01\n",
            "  6.87383843e+01 -3.69288012e+00 -6.65324233e+00  5.61607156e+01\n",
            "  6.72793263e+00 -1.11270090e+01  7.53713294e+01  6.32544785e+01\n",
            "  1.03182119e+00  7.37384665e+01 -4.76946250e+00  8.05621321e+01\n",
            "  6.13457584e+01  6.21601132e+01  4.59961763e+01 -1.12315299e+01\n",
            " -8.85395043e+00  1.98382890e+01  1.21968238e-02 -1.00834355e+01\n",
            "  6.39661798e+01  6.10617856e+01 -4.98273274e+00  6.17103675e+01\n",
            "  6.14808571e+01 -2.05552777e+00  8.44122033e+01 -9.49292558e+00\n",
            "  6.31008231e+01 -1.28714292e+00 -9.02305605e+00  1.34776462e+00\n",
            "  7.89712185e+01  6.44251675e+01  4.60092771e+01  2.99345909e+00\n",
            "  6.47970967e+01 -6.67987081e+00 -3.87580680e+00  5.90109777e+01\n",
            "  1.54678216e+00 -2.97730778e+00  9.14143245e+01  5.37686563e+00\n",
            " -7.98602232e+00  8.29313330e+01  6.63488229e+01 -5.71353670e+00\n",
            "  1.25716681e+02  7.39713680e+01 -1.40761921e+01 -1.53721276e+01\n",
            " -8.77473535e+00 -1.86365246e+01 -1.25592761e+01  7.68032309e+01\n",
            "  7.81769805e+01 -2.12560503e+00 -1.34954781e+01 -8.37570120e+00\n",
            "  5.54934596e+01  7.18609106e+01  1.95189990e-01 -5.03325473e+00\n",
            " -1.44504310e+01 -2.29171626e+01 -1.16488056e+01 -2.21882932e-01\n",
            " -1.60490319e+00  9.47132635e+00  7.63284307e+01  8.27054855e+01\n",
            "  3.12434503e+01 -1.10154855e+01  7.36079520e+01  6.53738585e+01\n",
            "  6.82428260e+01  6.22833777e+01  7.64261823e+01  6.43847874e+01\n",
            "  5.88156554e+01  8.31179012e+01  6.62325900e+01  6.51830857e+01\n",
            "  8.64610697e+01  6.57865364e+01  6.86909359e+01  7.53101341e+01\n",
            " -1.23486261e+01  7.33625533e+01  2.81933192e-01 -3.03343083e+00\n",
            "  6.70630368e+01  2.36707335e+01  7.04476486e+01  5.81277643e+01\n",
            "  6.32010299e+01  7.16230780e+01  2.99155549e+00  5.55187735e+01\n",
            " -1.23339510e+00 -4.12233546e+00 -4.71039231e+00 -5.49272245e+00\n",
            " -5.02095448e+01 -1.37794906e+01  7.66588795e+01 -1.08643057e+01\n",
            "  7.61441235e+01  7.41544988e+01 -9.56657665e+00  7.71148749e+01\n",
            " -3.95326182e-02 -1.23278142e+01  7.03210538e+01 -1.40098124e+01\n",
            " -1.51909005e+01  6.69173376e+01  6.58160090e+01 -1.66057961e+01\n",
            "  7.01997087e+01 -1.16366948e+00  8.77338630e+01  8.22301278e+01\n",
            "  8.06550984e+01  8.53288505e+01 -1.08298451e+01 -1.13817364e+01\n",
            " -1.13216554e+01  7.69184856e+01  6.05734992e+01 -1.35436016e+01\n",
            "  6.98246438e+00 -8.02103806e+00 -3.67909961e+00 -2.70385968e+00\n",
            "  5.64060986e+01  6.93087293e+01  7.15765075e+01 -2.92508540e+00\n",
            " -8.77343051e+00 -1.92068114e+01 -1.59897206e+01  7.50093794e+01\n",
            " -2.64043745e+00 -6.92212505e+00  3.26182910e+01  6.58052296e+01\n",
            " -4.65856472e+00  6.87097206e+01 -1.21089630e+01 -1.99223314e+01\n",
            " -3.11374436e+00  8.15570761e-02  6.52909263e+01 -9.41607606e+00\n",
            "  4.97034365e+00  6.38624367e+01 -1.61630921e+01 -1.02063654e+01\n",
            " -3.35223873e+00 -2.15159279e+00 -9.91649092e+00 -4.85222019e+00\n",
            "  6.74760701e+01  4.93385394e+01  6.46166343e+01 -6.91771637e+00\n",
            "  6.28273341e+01  7.33673540e+01  8.12770542e+01  7.04736988e+01\n",
            "  7.44821090e+01 -1.21519965e+01 -6.70058655e+00 -8.52343022e+00\n",
            "  6.98066050e+01  7.36482894e+01 -1.19701920e+01  6.70227491e+01\n",
            " -3.45209035e+00  5.08029419e+01  8.18465057e+01 -1.22194574e+01\n",
            " -1.63367681e+01  6.71110181e+01 -2.02023962e+01  7.90881732e+01\n",
            "  7.51178132e+01  6.57947032e+01 -2.01961393e+00  6.59082162e+01\n",
            " -6.32107940e+00  3.64284393e+00 -6.31678365e+00  5.29629542e+01\n",
            " -7.27022683e+00  7.56891196e+01  8.23442442e+01 -4.38851878e+00\n",
            "  7.42002225e+01  8.13456038e+01 -1.59707095e+01  6.93508521e+01\n",
            "  1.56855753e+00  7.04721818e+01  7.05070755e+01  7.90116619e+01\n",
            " -1.27774764e+01  7.10243599e+01  8.12636475e+01 -3.02870823e+00\n",
            " -4.70407209e-01  7.79891406e+01  6.89731965e+01 -9.95473060e+00\n",
            "  8.41820301e+01 -5.26049104e+00  8.09829831e+01  8.04569889e+01\n",
            " -1.15014527e+01 -1.12336115e+01  3.82563471e+00 -2.07462433e+01\n",
            "  2.85520012e+01 -2.19326079e+01  6.63086946e+01  7.09149642e+01\n",
            "  6.75529753e+01 -3.83963312e+00  8.44831396e+01 -1.46395267e+01\n",
            " -4.95539886e+00 -1.02110393e+01  9.16956005e+01 -4.20475017e+00\n",
            "  8.03309079e+01 -1.52964241e+01  7.25510888e+01 -7.97286724e+00\n",
            "  7.08509416e+01  8.51625981e+01  5.02328981e+01 -9.98196092e+00\n",
            "  8.55741392e+01  7.00231895e+01  5.46139321e+01 -5.80610647e+00\n",
            " -4.65722087e+00  7.40580647e+01  6.17263234e+01 -1.23497231e+00\n",
            " -6.48388048e+00 -1.84950247e+01  4.69913762e+00  1.95728958e-01\n",
            "  5.41370709e+01  1.03973488e+02  7.45836939e+01 -1.42075103e+01\n",
            "  7.67243852e+01 -2.00475963e+01  5.60640472e+01  5.91829269e+01\n",
            "  7.00478549e+01 -7.89396613e+00 -1.21867338e+01  6.09616542e+01\n",
            "  7.24423673e+01  7.61009430e+01  7.60316852e+01 -1.07228215e+01\n",
            " -2.12368355e+01  6.63949063e+01 -1.11830134e+01 -1.33692649e+01\n",
            " -1.21262288e+01  6.84666304e+01  5.89421282e+01 -9.72096756e+00\n",
            " -7.99751054e+00 -8.40454407e+00  8.00304473e+01 -1.28903942e+01\n",
            "  6.25818500e+01  7.85388182e+01  8.26045449e+01  6.95966296e+01\n",
            "  7.65732784e+01 -9.85484771e+00  7.26845927e+01  8.47373656e+01\n",
            "  3.98737158e+00 -2.21341316e+00  7.39051915e+01 -9.33322222e+00\n",
            " -1.83716256e+01  3.11022284e+00  9.71902727e+01  7.20813003e+01]\n"
          ]
        }
      ],
      "source": [
        "#predictions with c = 0.1\n",
        "predict_c = np.dot(image_embeddings_test, w.T)\n",
        "print(predict_c)"
      ]
    },
    {
      "cell_type": "code",
      "execution_count": null,
      "metadata": {
        "id": "EmEwLr23OJA1"
      },
      "outputs": [],
      "source": [
        "#Scores"
      ]
    },
    {
      "cell_type": "code",
      "execution_count": null,
      "metadata": {
        "id": "2dw47Wg4uHJH"
      },
      "outputs": [],
      "source": [
        "#Bonus\n",
        "\n",
        "C = [0.2, 0.3, 0.4, 0.5, 0.7]\n",
        "W = []\n",
        "for c in C:\n",
        "  W.append(c*np.dot(S_inv, mean_dif))\n",
        "\n"
      ]
    },
    {
      "cell_type": "code",
      "execution_count": null,
      "metadata": {
        "id": "uldlZXd88iYr"
      },
      "outputs": [],
      "source": [
        "predict_C = []\n",
        "for w in W:\n",
        "  predict_C.append(np.dot(image_embeddings_test, w.T))"
      ]
    },
    {
      "cell_type": "code",
      "execution_count": null,
      "metadata": {
        "id": "Fqa-wwvkOKsV"
      },
      "outputs": [],
      "source": [
        "#Scores\n"
      ]
    }
  ],
  "metadata": {
    "colab": {
      "provenance": []
    },
    "kernelspec": {
      "display_name": "Python 3",
      "name": "python3"
    },
    "language_info": {
      "codemirror_mode": {
        "name": "ipython",
        "version": 3
      },
      "file_extension": ".py",
      "mimetype": "text/x-python",
      "name": "python",
      "nbconvert_exporter": "python",
      "pygments_lexer": "ipython3",
      "version": "3.12.1"
    }
  },
  "nbformat": 4,
  "nbformat_minor": 0
}
